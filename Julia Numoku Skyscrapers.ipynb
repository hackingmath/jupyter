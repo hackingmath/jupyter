{
 "cells": [
  {
   "cell_type": "code",
   "execution_count": 6,
   "metadata": {},
   "outputs": [
    {
     "data": {
      "text/plain": [
       "populate_board (generic function with 1 method)"
      ]
     },
     "execution_count": 6,
     "metadata": {},
     "output_type": "execute_result"
    }
   ],
   "source": [
    "#Puzzle 19192\n",
    "#https://twitter.com/1to9puzzle/status/1149354342001983494\n",
    "BOARD = Array(Int8[2,6,0,0,0,0,0,7,0,0,8,0,0,0,0,0,0,0,0,0,0,0,0,0,0,4,0,0,3,0,0,0,0,0,0,0])\n",
    "indices_to_fill = [i for i in 1:length(BOARD) if BOARD[i] == 0]\n",
    "            \n",
    "TOP = [3,3,2,4,1,3] #TOP\n",
    "BOTTOM = [3,1,2,3,4,2] #BOTTOM\n",
    "LEFT = [4,3,1,2,3,2] #LEFT\n",
    "RIGHT = [2,2,4,2,2,2] #RIGHT\n",
    "\n",
    "function count(mylist,thing)\n",
    "    output = 0\n",
    "    for i in mylist\n",
    "        if i == thing\n",
    "            output += 1\n",
    "            end \n",
    "    end\n",
    "    output\n",
    "end\n",
    "\n",
    "NUMS = collect(1:9)\n",
    "NUMBLANKS = count(BOARD,0)\n",
    "#print(NUMBLANKS)\n",
    "\n",
    "function populate_board(solution_board)\n",
    "    output = deepcopy(BOARD)\n",
    "    ind = 1\n",
    "    for i in 1:36\n",
    "        if output[i] == 0\n",
    "            output[i] = solution_board[ind]\n",
    "            ind +=1 \n",
    "        end\n",
    "    end\n",
    "    output\n",
    "end\n",
    "\n",
    "            "
   ]
  },
  {
   "cell_type": "code",
   "execution_count": 7,
   "metadata": {},
   "outputs": [
    {
     "data": {
      "text/plain": [
       "print_board (generic function with 1 method)"
      ]
     },
     "execution_count": 7,
     "metadata": {},
     "output_type": "execute_result"
    }
   ],
   "source": [
    "function row(board,n)\n",
    "    #returns values in row n of board\n",
    "    return board[6*n-5:6*n]\n",
    "end\n",
    "\n",
    "function col(board,n)\n",
    "    #returns values in col n of board\n",
    "    if n == 6\n",
    "        return [board[i] for i in [6,12,18,24,30,36]]\n",
    "    else\n",
    "        return [board[i] for i in 1:36 if i%6 == n]\n",
    "    end\n",
    "end\n",
    "\n",
    "function quadrant(board,n)\n",
    "    q = [[1,2,3,7,8,9,13,14,15],[4,5,6,10,11,12,16,17,18],[19,20,21,25,26,27,31,32,33],[22,23,24,28,29,30,34,35,36]]\n",
    "    return [board[i] for i in q[n]]\n",
    "end\n",
    "                \n",
    "function visible(mylist)\n",
    "    counter = 1\n",
    "    highest = mylist[1]\n",
    "    for i in 2:6\n",
    "        if mylist[i] > highest\n",
    "            counter += 1\n",
    "            highest = mylist[i]\n",
    "        end\n",
    "                    end\n",
    "    return counter\n",
    "                end\n",
    "            \n",
    "function repeat(mylist)\n",
    "    for n in mylist\n",
    "        if n != 0 && count(mylist,n)>1\n",
    "            return true\n",
    "        end\n",
    "    end\n",
    "    return false\n",
    "                \n",
    "end\n",
    "\n",
    "function print_board(solution_board)\n",
    "    #board = populate_board(solution_board)\n",
    "\n",
    "    print()\n",
    "    for i in 1:36\n",
    "        if i % 6 == 0\n",
    "            println(solution_board[i])\n",
    "        else\n",
    "            print(solution_board[i])\n",
    "            print(' ')\n",
    "        end\n",
    "    end\n",
    "    println() #blank line\n",
    "end\n",
    "\n",
    "# rboard = rand(1:9,1,36)\n",
    "# print_board(rboard)\n",
    "# println(row(rboard,2))\n",
    "#println(col(rboard,6))\n",
    "# println(sum(quadrant(rboard,2)))\n"
   ]
  },
  {
   "cell_type": "code",
   "execution_count": 15,
   "metadata": {},
   "outputs": [
    {
     "data": {
      "text/plain": [
       "check_no_conflicts (generic function with 1 method)"
      ]
     },
     "execution_count": 15,
     "metadata": {},
     "output_type": "execute_result"
    }
   ],
   "source": [
    "\n",
    "function check_no_conflicts(solution_board)\n",
    "    #Returns False if there ARE conflicts\n",
    "    for j in 1:6\n",
    "        this_row = row(solution_board,j)\n",
    "        if repeat(this_row)\n",
    "            #println(\"repeat row\",j)\n",
    "            return false\n",
    "        end\n",
    "        if count(this_row,0) == 0\n",
    "            if sum(this_row) != 30\n",
    "                return false\n",
    "            end\n",
    "            if visible(this_row) != LEFT[j]\n",
    "                return false\n",
    "            end\n",
    "            if visible(reverse(this_row)) != RIGHT[j]\n",
    "                return false\n",
    "            end\n",
    "        end\n",
    "        this_col = col(solution_board,j)\n",
    "        \n",
    "        if repeat(this_col)\n",
    "            #println(\"repeat col\",j)\n",
    "            return false\n",
    "        end\n",
    "        if (count(this_col,0) == 0)\n",
    "            if sum(this_col) != 30\n",
    "                #println(\"col sum\",j)\n",
    "                return false\n",
    "            end\n",
    "        \n",
    "            if visible(this_col) != TOP[j]\n",
    "                return false\n",
    "            end\n",
    "            if visible(reverse(this_col)) != BOTTOM[j]\n",
    "                return false\n",
    "            end\n",
    "        end\n",
    "    end\n",
    "    for i in 1:4\n",
    "        this_quad = quadrant(solution_board,i)\n",
    "        if repeat(this_quad)\n",
    "            return false\n",
    "        end\n",
    "        for j in 1:9\n",
    "            if count(this_quad,0) == 0 && count(this_quad,j) != 1\n",
    "                #println(\"quad\",n)\n",
    "                return false\n",
    "            end\n",
    "        end\n",
    "    end\n",
    "    return true\n",
    "end\n",
    "\n",
    "# rboard = rand(1:9,1,36)\n",
    "# print_board(rboard)\n",
    "# println(check_no_conflicts(rboard))\n",
    "# board = [4, 2, 8, 7, 3, 6, 1, 5, 3, 9, 8, 4, 6, 9, 7, 2, 5, 1, 2, 3, 6, 4, 7, 8, 8, 4, 5, 3, 1, 9, 9, 7, 1, 5, 6, 2]\n",
    "# println(check_no_conflicts(board))"
   ]
  },
  {
   "cell_type": "code",
   "execution_count": 17,
   "metadata": {},
   "outputs": [
    {
     "name": "stdout",
     "output_type": "stream",
     "text": [
      "2 6 8 1 9 4\n",
      "5 7 1 6 8 3\n",
      "9 3 4 7 5 2\n",
      "7 2 5 9 1 6\n",
      "1 4 9 5 3 8\n",
      "6 8 3 2 4 7\n",
      "\n",
      "  6.745707 seconds (92.13 M allocations: 4.258 GiB, 4.63% gc time)\n"
     ]
    },
    {
     "data": {
      "text/plain": [
       "\"Puzzle #20002\\nSolution\\n\\n4 2 8 7 3 6\\n1 5 3 9 8 4\\n6 9 7 2 5 1\\n2 3 6 4 7 8\\n8 4 5 3 1 9\\n9 7 1 5 6 2\\n\\n  3.185998 seconds (49.77 M allocations: 2.293 GiB, 6.27% gc time)\\n\""
      ]
     },
     "execution_count": 17,
     "metadata": {},
     "output_type": "execute_result"
    }
   ],
   "source": [
    "function solve(values, size)\n",
    "    solution_list = zeros(size)\n",
    "\n",
    "    function extend_solution(position)\n",
    "        for value in values\n",
    "            solution_list[position] = value\n",
    "            solution = populate_board(solution_list)\n",
    "            #print_board(solution)\n",
    "            if check_no_conflicts(solution)\n",
    "                if position >= size\n",
    "                    return solution\n",
    "                end\n",
    "                new_solution = extend_solution(position+1)\n",
    "                if new_solution != nothing\n",
    "                    return new_solution\n",
    "                end\n",
    "            else\n",
    "                solution_list[position] = 0\n",
    "                if position < size\n",
    "                    solution_list[position+1] = 0\n",
    "                end\n",
    "                if value == values[length(values)]\n",
    "                    #println(\"end of values\")\n",
    "                    if position > 1\n",
    "                        solution_list[position-1] = 0\n",
    "                    end\n",
    "                end\n",
    "                \n",
    "            end\n",
    "        end\n",
    "\n",
    "        nothing\n",
    "    end\n",
    "    extend_solution(1)\n",
    "end\n",
    "\n",
    "function main()\n",
    "    soln = solve(NUMS,NUMBLANKS)\n",
    "    print_board(soln)\n",
    "end\n",
    "\n",
    "@time main()"
   ]
  },
  {
   "cell_type": "code",
   "execution_count": null,
   "metadata": {},
   "outputs": [],
   "source": []
  }
 ],
 "metadata": {
  "kernelspec": {
   "display_name": "Julia 1.2.0",
   "language": "julia",
   "name": "julia-1.2"
  },
  "language_info": {
   "file_extension": ".jl",
   "mimetype": "application/julia",
   "name": "julia",
   "version": "1.2.0"
  }
 },
 "nbformat": 4,
 "nbformat_minor": 2
}
