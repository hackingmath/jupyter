{
 "cells": [
  {
   "cell_type": "code",
   "execution_count": null,
   "metadata": {},
   "outputs": [],
   "source": [
    "#usable for Project Euler 18 and 67."
   ]
  },
  {
   "cell_type": "code",
   "execution_count": 1,
   "metadata": {},
   "outputs": [],
   "source": [
    "import pandas as pd"
   ]
  },
  {
   "cell_type": "code",
   "execution_count": 6,
   "metadata": {},
   "outputs": [
    {
     "data": {
      "text/html": [
       "<div>\n",
       "<style scoped>\n",
       "    .dataframe tbody tr th:only-of-type {\n",
       "        vertical-align: middle;\n",
       "    }\n",
       "\n",
       "    .dataframe tbody tr th {\n",
       "        vertical-align: top;\n",
       "    }\n",
       "\n",
       "    .dataframe thead th {\n",
       "        text-align: right;\n",
       "    }\n",
       "</style>\n",
       "<table border=\"1\" class=\"dataframe\">\n",
       "  <thead>\n",
       "    <tr style=\"text-align: right;\">\n",
       "      <th></th>\n",
       "      <th>75</th>\n",
       "    </tr>\n",
       "  </thead>\n",
       "  <tbody>\n",
       "    <tr>\n",
       "      <th>0</th>\n",
       "      <td>95 64</td>\n",
       "    </tr>\n",
       "    <tr>\n",
       "      <th>1</th>\n",
       "      <td>17 47 82</td>\n",
       "    </tr>\n",
       "    <tr>\n",
       "      <th>2</th>\n",
       "      <td>18 35 87 10</td>\n",
       "    </tr>\n",
       "    <tr>\n",
       "      <th>3</th>\n",
       "      <td>20 04 82 47 65</td>\n",
       "    </tr>\n",
       "    <tr>\n",
       "      <th>4</th>\n",
       "      <td>19 01 23 75 03 34</td>\n",
       "    </tr>\n",
       "    <tr>\n",
       "      <th>5</th>\n",
       "      <td>88 02 77 73 07 63 67</td>\n",
       "    </tr>\n",
       "    <tr>\n",
       "      <th>6</th>\n",
       "      <td>99 65 04 28 06 16 70 92</td>\n",
       "    </tr>\n",
       "    <tr>\n",
       "      <th>7</th>\n",
       "      <td>41 41 26 56 83 40 80 70 33</td>\n",
       "    </tr>\n",
       "    <tr>\n",
       "      <th>8</th>\n",
       "      <td>41 48 72 33 47 32 37 16 94 29</td>\n",
       "    </tr>\n",
       "    <tr>\n",
       "      <th>9</th>\n",
       "      <td>53 71 44 65 25 43 91 52 97 51 14</td>\n",
       "    </tr>\n",
       "    <tr>\n",
       "      <th>10</th>\n",
       "      <td>70 11 33 28 77 73 17 78 39 68 17 57</td>\n",
       "    </tr>\n",
       "    <tr>\n",
       "      <th>11</th>\n",
       "      <td>91 71 52 38 17 14 91 43 58 50 27 29 48</td>\n",
       "    </tr>\n",
       "    <tr>\n",
       "      <th>12</th>\n",
       "      <td>63 66 04 68 89 53 67 30 73 16 69 87 40 31</td>\n",
       "    </tr>\n",
       "    <tr>\n",
       "      <th>13</th>\n",
       "      <td>04 62 98 27 23 09 70 98 73 93 38 53 60 04 23</td>\n",
       "    </tr>\n",
       "  </tbody>\n",
       "</table>\n",
       "</div>"
      ],
      "text/plain": [
       "                                              75\n",
       "0                                          95 64\n",
       "1                                       17 47 82\n",
       "2                                    18 35 87 10\n",
       "3                                 20 04 82 47 65\n",
       "4                              19 01 23 75 03 34\n",
       "5                           88 02 77 73 07 63 67\n",
       "6                        99 65 04 28 06 16 70 92\n",
       "7                     41 41 26 56 83 40 80 70 33\n",
       "8                  41 48 72 33 47 32 37 16 94 29\n",
       "9               53 71 44 65 25 43 91 52 97 51 14\n",
       "10           70 11 33 28 77 73 17 78 39 68 17 57\n",
       "11        91 71 52 38 17 14 91 43 58 50 27 29 48\n",
       "12     63 66 04 68 89 53 67 30 73 16 69 87 40 31\n",
       "13  04 62 98 27 23 09 70 98 73 93 38 53 60 04 23"
      ]
     },
     "execution_count": 6,
     "metadata": {},
     "output_type": "execute_result"
    }
   ],
   "source": [
    "pd.read_csv('C:\\\\Users\\\\pfarrell\\\\Desktop\\\\euler18.csv',delimiter='\\n')"
   ]
  },
  {
   "cell_type": "code",
   "execution_count": 33,
   "metadata": {},
   "outputs": [
    {
     "name": "stdout",
     "output_type": "stream",
     "text": [
      "[[59], [73, 41], [52, 40, 9], [26, 53, 6, 34], [10, 51, 87, 86, 81], [61, 95, 66, 57, 25, 68], [90, 81, 80, 38, 92, 67, 73], [30, 28, 51, 76, 81, 18, 75, 44], [84, 14, 95, 87, 62, 81, 17, 78, 58], [21, 46, 71, 58, 2, 79, 62, 39, 31, 9]]\n"
     ]
    }
   ],
   "source": [
    "#with open('C:\\\\Users\\\\pfarrell\\\\Desktop\\\\euler18.txt') as file: \n",
    "with open('C:\\\\Users\\\\pfarrell\\\\Desktop\\\\euler067.txt') as file: \n",
    "    data = file.readlines()\n",
    "    numList = [line.split() for line in data]\n",
    "    \n",
    "    output = []\n",
    "    for row in numList:\n",
    "        output.append([int(n) for n in row])\n",
    "\n",
    "    print(output[:10])"
   ]
  },
  {
   "cell_type": "code",
   "execution_count": 34,
   "metadata": {},
   "outputs": [
    {
     "name": "stdout",
     "output_type": "stream",
     "text": [
      "7273\n"
     ]
    }
   ],
   "source": [
    "for r in range(len(output)-2,-1,-1):\n",
    "    for i,v in enumerate(output[r]):\n",
    "        output[r][i] += max(output[r+1][i],output[r+1][i+1])\n",
    "print(output[0][0])"
   ]
  },
  {
   "cell_type": "code",
   "execution_count": null,
   "metadata": {},
   "outputs": [],
   "source": []
  }
 ],
 "metadata": {
  "kernelspec": {
   "display_name": "Python 3",
   "language": "python",
   "name": "python3"
  },
  "language_info": {
   "codemirror_mode": {
    "name": "ipython",
    "version": 3
   },
   "file_extension": ".py",
   "mimetype": "text/x-python",
   "name": "python",
   "nbconvert_exporter": "python",
   "pygments_lexer": "ipython3",
   "version": "3.6.5"
  }
 },
 "nbformat": 4,
 "nbformat_minor": 2
}
